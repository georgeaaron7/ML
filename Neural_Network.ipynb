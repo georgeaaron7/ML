{
  "nbformat": 4,
  "nbformat_minor": 0,
  "metadata": {
    "colab": {
      "provenance": [],
      "authorship_tag": "ABX9TyN8Inzk7JDmhYtIl+QW2tcg",
      "include_colab_link": true
    },
    "kernelspec": {
      "name": "python3",
      "display_name": "Python 3"
    },
    "language_info": {
      "name": "python"
    }
  },
  "cells": [
    {
      "cell_type": "markdown",
      "metadata": {
        "id": "view-in-github",
        "colab_type": "text"
      },
      "source": [
        "<a href=\"https://colab.research.google.com/github/georgeaaron7/ML/blob/main/Neural_Network.ipynb\" target=\"_parent\"><img src=\"https://colab.research.google.com/assets/colab-badge.svg\" alt=\"Open In Colab\"/></a>"
      ]
    },
    {
      "cell_type": "markdown",
      "source": [
        "Input Data"
      ],
      "metadata": {
        "id": "b2Ki0Me43sbo"
      }
    },
    {
      "cell_type": "code",
      "execution_count": 1,
      "metadata": {
        "id": "TK-5sIQ-f2Fy"
      },
      "outputs": [],
      "source": [
        "a = [0, 0, 1, 1, 0, 0,\n",
        "     0, 1, 0, 0, 1, 0,\n",
        "     1, 1, 1, 1, 1, 1,\n",
        "     1, 0, 0, 0, 0, 1,\n",
        "     1, 0, 0, 0, 0, 1]"
      ]
    },
    {
      "cell_type": "code",
      "source": [
        "b = [0, 1, 1, 1, 1, 0,\n",
        "     0, 1, 0, 0, 1, 0,\n",
        "     0, 1, 1, 1, 1, 0,\n",
        "     0, 1, 0, 0, 1, 0,\n",
        "     0, 1, 1, 1, 1, 0]"
      ],
      "metadata": {
        "id": "2aYm2wb62gGR"
      },
      "execution_count": 2,
      "outputs": []
    },
    {
      "cell_type": "code",
      "source": [
        "c = [0, 1, 1, 1, 1, 0,\n",
        "     0, 1, 0, 0, 0, 0,\n",
        "     0, 1, 0, 0, 0, 0,\n",
        "     0, 1, 0, 0, 0, 0,\n",
        "     0, 1, 1, 1, 1, 0]"
      ],
      "metadata": {
        "id": "-gf4MbP_3Aq6"
      },
      "execution_count": 3,
      "outputs": []
    },
    {
      "cell_type": "markdown",
      "source": [
        "Creating labels"
      ],
      "metadata": {
        "id": "LBlPIOM43Xb4"
      }
    },
    {
      "cell_type": "code",
      "source": [
        "y = [[1,0,0],\n",
        "     [0,1,0],\n",
        "     [0,0,1]]"
      ],
      "metadata": {
        "id": "vypWb7JQ3TxQ"
      },
      "execution_count": 4,
      "outputs": []
    },
    {
      "cell_type": "code",
      "source": [
        "import numpy as np\n",
        "import matplotlib.pyplot as plt"
      ],
      "metadata": {
        "id": "f74V0ynC3jIZ"
      },
      "execution_count": 5,
      "outputs": []
    },
    {
      "cell_type": "markdown",
      "source": [
        "Visualizing the data"
      ],
      "metadata": {
        "id": "hMKuy9933ooj"
      }
    },
    {
      "cell_type": "code",
      "source": [
        "plt.imshow(np.array(a).reshape(5,6))\n",
        "plt.show()"
      ],
      "metadata": {
        "colab": {
          "base_uri": "https://localhost:8080/",
          "height": 430
        },
        "id": "stpLYMB43vFZ",
        "outputId": "2a32ed32-6740-4555-9cbe-78e1ab306e92"
      },
      "execution_count": 7,
      "outputs": [
        {
          "output_type": "display_data",
          "data": {
            "text/plain": [
              "<Figure size 640x480 with 1 Axes>"
            ],
            "image/png": "[encoded data removed]"
          },
          "metadata": {}
        }
      ]
    },
    {
      "cell_type": "markdown",
      "source": [
        "converting data and labels into numpy array"
      ],
      "metadata": {
        "id": "EHmpbrW54MSR"
      }
    },
    {
      "cell_type": "code",
      "source": [
        "x = [np.array(a).reshape(1,30), np.array(b).reshape(1,30), np.array(c).reshape(1,30)]\n",
        "y = np.array(y)\n",
        "print(x ,\"\\n\\n\", y)"
      ],
      "metadata": {
        "colab": {
          "base_uri": "https://localhost:8080/"
        },
        "id": "JeBMCBMP4PBA",
        "outputId": "9ec4579e-b7c3-4685-dbdf-cab9afcea2ba"
      },
      "execution_count": 9,
      "outputs": [
        {
          "output_type": "stream",
          "name": "stdout",
          "text": [
            "[array([[0, 0, 1, 1, 0, 0, 0, 1, 0, 0, 1, 0, 1, 1, 1, 1, 1, 1, 1, 0, 0, 0,\n",
            "        0, 1, 1, 0, 0, 0, 0, 1]]), array([[0, 1, 1, 1, 1, 0, 0, 1, 0, 0, 1, 0, 0, 1, 1, 1, 1, 0, 0, 1, 0, 0,\n",
            "        1, 0, 0, 1, 1, 1, 1, 0]]), array([[0, 1, 1, 1, 1, 0, 0, 1, 0, 0, 0, 0, 0, 1, 0, 0, 0, 0, 0, 1, 0, 0,\n",
            "        0, 0, 0, 1, 1, 1, 1, 0]])] \n",
            "\n",
            " [[1 0 0]\n",
            " [0 1 0]\n",
            " [0 0 1]]\n"
          ]
        }
      ]
    },
    {
      "cell_type": "markdown",
      "source": [
        "Activation function"
      ],
      "metadata": {
        "id": "3aCQAEim41zQ"
      }
    },
    {
      "cell_type": "code",
      "source": [
        "def sigmoid(x):\n",
        "    return(1/(1 + np.exp(-x)))"
      ],
      "metadata": {
        "id": "NqvbSCuX4zr3"
      },
      "execution_count": 48,
      "outputs": []
    },
    {
      "cell_type": "markdown",
      "source": [
        "creating a feed forward neural network"
      ],
      "metadata": {
        "id": "rZQXirKt5F5x"
      }
    },
    {
      "cell_type": "code",
      "source": [
        "def f_forward(x, w1, w2):\n",
        "    # hidden\n",
        "    z1 = x.dot(w1)\n",
        "    a1 = sigmoid(z1)\n",
        "\n",
        "    # Output layer\n",
        "    z2 = a1.dot(w2)\n",
        "    a2 = sigmoid(z2)\n",
        "    return(a2)"
      ],
      "metadata": {
        "id": "sK4Y-i8p5cuv"
      },
      "execution_count": 49,
      "outputs": []
    },
    {
      "cell_type": "markdown",
      "source": [
        "intializing the weights"
      ],
      "metadata": {
        "id": "OkIzmB3f6E5P"
      }
    },
    {
      "cell_type": "code",
      "source": [
        "def generate_wt(x, y):\n",
        "    l =[]\n",
        "    for i in range(x * y):\n",
        "        l.append(np.random.randn())\n",
        "    return(np.array(l).reshape(x, y))"
      ],
      "metadata": {
        "id": "NoZ3n4_r6Gnf"
      },
      "execution_count": 50,
      "outputs": []
    },
    {
      "cell_type": "markdown",
      "source": [
        "loss function"
      ],
      "metadata": {
        "id": "O_-HKU936k7d"
      }
    },
    {
      "cell_type": "code",
      "source": [
        "def loss(out, Y):\n",
        "    s =(np.square(out-Y))\n",
        "    s = np.sum(s)/len(y)\n",
        "    return(s)"
      ],
      "metadata": {
        "id": "W1CSyoo36j7l"
      },
      "execution_count": 51,
      "outputs": []
    },
    {
      "cell_type": "markdown",
      "source": [
        "Back propogation"
      ],
      "metadata": {
        "id": "D3XWdumI7dB1"
      }
    },
    {
      "cell_type": "code",
      "source": [
        "def back_prop(x, y, w1, w2, alpha):\n",
        "\n",
        "    # hidden layer\n",
        "    z1 = x.dot(w1)\n",
        "    a1 = sigmoid(z1)\n",
        "\n",
        "    # Output layer\n",
        "    z2 = a1.dot(w2)\n",
        "    a2 = sigmoid(z2)\n",
        "\n",
        "    # error in output layer\n",
        "    d2 =(a2-y)\n",
        "    d1 = np.multiply((w2.dot((d2.transpose()))).transpose(),\n",
        "                                   (np.multiply(a1, 1-a1)))\n",
        "\n",
        "    # Gradient for w1 and w2\n",
        "    w1_adj = x.transpose().dot(d1)\n",
        "    w2_adj = a1.transpose().dot(d2)\n",
        "\n",
        "    # Updating parameters\n",
        "    w1 = w1-(alpha*(w1_adj))\n",
        "    w2 = w2-(alpha*(w2_adj))\n",
        "\n",
        "    return(w1, w2)"
      ],
      "metadata": {
        "id": "uKUvk28-7VBm"
      },
      "execution_count": 52,
      "outputs": []
    },
    {
      "cell_type": "code",
      "source": [
        "def train(x, Y, w1, w2, alpha = 0.01, epoch = 10):\n",
        "    acc =[]\n",
        "    losss =[]\n",
        "    for j in range(epoch):\n",
        "        l =[]\n",
        "        for i in range(len(x)):\n",
        "            out = f_forward(x[i], w1, w2)\n",
        "            l.append((loss(out, Y[i])))\n",
        "            w1, w2 = back_prop(x[i], y[i], w1, w2, alpha)\n",
        "        print(\"epochs:\", j + 1, \"======== acc:\", (1-(sum(l)/len(x)))*100)\n",
        "        acc.append((1-(sum(l)/len(x)))*100)\n",
        "        losss.append(sum(l)/len(x))\n",
        "    return(acc, losss, w1, w2)"
      ],
      "metadata": {
        "id": "hrUhNqUUBOns"
      },
      "execution_count": 54,
      "outputs": []
    },
    {
      "cell_type": "code",
      "source": [
        "def predict(x, w1, w2):\n",
        "    Out = f_forward(x, w1, w2)\n",
        "    maxm = 0\n",
        "    k = 0\n",
        "    for i in range(len(Out[0])):\n",
        "        if(maxm<Out[0][i]):\n",
        "            maxm = Out[0][i]\n",
        "            k = i\n",
        "    if(k == 0):\n",
        "        print(\"Image is of letter A.\")\n",
        "    elif(k == 1):\n",
        "        print(\"Image is of letter B.\")\n",
        "    else:\n",
        "        print(\"Image is of letter C.\")\n",
        "    plt.imshow(x.reshape(5, 6))\n",
        "    plt.show()"
      ],
      "metadata": {
        "id": "ZUVRAgNRAD2z"
      },
      "execution_count": 55,
      "outputs": []
    },
    {
      "cell_type": "code",
      "source": [
        "w1 = generate_wt(30, 5)\n",
        "w2 = generate_wt(5, 3)\n",
        "print(w1, \"\\n\\n\", w2)"
      ],
      "metadata": {
        "colab": {
          "base_uri": "https://localhost:8080/"
        },
        "id": "3xqk5CvYAd_7",
        "outputId": "f495a5f0-e363-4cba-fe82-1a161f2ef4ef"
      },
      "execution_count": 56,
      "outputs": [
        {
          "output_type": "stream",
          "name": "stdout",
          "text": [
            "[[-6.38274979e-02 -1.82275135e+00  5.93861689e-01 -6.78781113e-01\n",
            "   2.73618659e+00]\n",
            " [-7.33378137e-02  5.36053912e-01  4.56430397e-01  3.98014338e-01\n",
            "  -8.25053066e-01]\n",
            " [-6.13970302e-01 -8.70223832e-01 -9.12013680e-01 -1.43574247e+00\n",
            "  -6.30729986e-01]\n",
            " [-8.96563610e-03  2.93008149e+00 -7.93344870e-01  1.14427999e+00\n",
            "  -1.13007840e+00]\n",
            " [ 2.37001021e-01 -8.19289674e-02 -4.57488621e-01 -3.83678802e-01\n",
            "  -4.21878170e-01]\n",
            " [ 2.38487643e+00  2.34756526e-01 -5.49631531e-01 -1.03076918e+00\n",
            "  -1.49595805e-01]\n",
            " [ 1.45461521e-01  1.15457664e+00  2.18792108e+00 -4.32074692e-02\n",
            "   1.16968560e+00]\n",
            " [ 3.63155850e-01 -8.19273871e-02  7.04225596e-01 -8.19385182e-01\n",
            "  -1.31807423e+00]\n",
            " [-1.91844955e+00  6.84425018e-01 -1.69965948e+00  4.27733228e-01\n",
            "   4.27071581e-01]\n",
            " [ 1.22172839e+00 -5.65990826e-01 -3.31071925e+00  1.65562086e-01\n",
            "  -1.76434447e+00]\n",
            " [ 9.52264856e-01  1.23164406e+00 -6.10596468e-01  9.73172689e-01\n",
            "   4.92243689e-01]\n",
            " [-1.85245749e+00 -1.10639916e-01 -9.21234400e-01  1.23189035e+00\n",
            "  -2.21593838e-01]\n",
            " [ 3.76909812e-01 -1.19155503e+00  1.27267598e-01  8.62278736e-01\n",
            "  -1.17401754e+00]\n",
            " [-1.05110615e+00  1.16765437e+00 -1.44955006e+00 -7.61301683e-02\n",
            "   1.04790151e+00]\n",
            " [ 6.17416656e-01  2.62772152e-04 -9.63026472e-01 -4.19333838e-01\n",
            "  -4.27448003e-01]\n",
            " [ 1.39298371e-01 -6.53213302e-01  6.22376982e-01  1.66359650e+00\n",
            "  -2.31856610e+00]\n",
            " [ 1.18684193e+00 -7.72341430e-01 -4.53158601e-01  4.91882232e-01\n",
            "   1.31659674e+00]\n",
            " [ 6.85051063e-01 -3.02386021e-02 -2.65163434e-01 -6.82963465e-01\n",
            "   1.71429458e-01]\n",
            " [ 2.16454191e-01  1.11992819e+00 -1.27485562e+00  2.64068190e-01\n",
            "  -2.90736310e-01]\n",
            " [-1.74306324e+00 -9.41957457e-01 -3.06481953e-01 -9.54551653e-01\n",
            "  -1.71310958e+00]\n",
            " [ 1.68849752e+00  1.51522617e+00  5.81385777e-01  5.11023944e-01\n",
            "  -1.66656375e+00]\n",
            " [ 2.38404349e+00  6.75147701e-01  8.89151243e-01  1.58690120e+00\n",
            "  -1.22649879e+00]\n",
            " [ 1.89009459e+00  1.20907600e+00 -1.40357871e+00 -2.47009367e-01\n",
            "  -7.22531032e-01]\n",
            " [ 8.16979191e-01 -4.71561361e-01 -8.49013081e-01 -4.59395270e-02\n",
            "   7.02634476e-02]\n",
            " [-8.07924283e-01 -1.05325656e+00 -4.73718848e-02  1.45521100e+00\n",
            "   1.40422586e+00]\n",
            " [-8.29975742e-01  1.40900904e-01 -6.16879858e-01 -1.27766015e+00\n",
            "  -4.30622767e-01]\n",
            " [-2.06008504e-01 -2.63467648e-01  4.57169476e-01  2.54140465e-01\n",
            "  -8.55409101e-01]\n",
            " [ 1.14191182e+00 -9.25015780e-01  1.09546943e-01  1.18979561e+00\n",
            "   7.60866035e-01]\n",
            " [-4.38874187e-01 -4.81991403e-01  2.39228515e-01  3.95863211e-01\n",
            "  -3.00213975e+00]\n",
            " [-2.50695507e+00 -1.60842518e+00 -5.58979696e-01  3.63228939e-01\n",
            "   4.01339120e-02]] \n",
            "\n",
            " [[ 0.24717854 -0.27612202 -0.148447  ]\n",
            " [-0.7206007  -0.67751458  0.44083158]\n",
            " [-0.85081701 -0.99279659 -0.60032597]\n",
            " [ 0.140598    2.08865218 -0.97693839]\n",
            " [-1.40842132 -0.66757493  0.6284532 ]]\n"
          ]
        }
      ]
    },
    {
      "cell_type": "code",
      "source": [
        "acc, losss, w1, w2 = train(x, y, w1, w2, 0.1, 100)"
      ],
      "metadata": {
        "colab": {
          "base_uri": "https://localhost:8080/"
        },
        "id": "tr-VYKR1A_dD",
        "outputId": "df2bb500-fe4b-4264-b2f7-f681a0a7ade9"
      },
      "execution_count": 57,
      "outputs": [
        {
          "output_type": "stream",
          "name": "stdout",
          "text": [
            "epochs: 1 ======== acc: 76.51470962772632\n",
            "epochs: 2 ======== acc: 77.25589444879283\n",
            "epochs: 3 ======== acc: 77.93535699069393\n",
            "epochs: 4 ======== acc: 78.55576465675642\n",
            "epochs: 5 ======== acc: 79.12067978760521\n",
            "epochs: 6 ======== acc: 79.63442357644321\n",
            "epochs: 7 ======== acc: 80.101736182872\n",
            "epochs: 8 ======== acc: 80.52748470799494\n",
            "epochs: 9 ======== acc: 80.91645366978852\n",
            "epochs: 10 ======== acc: 81.27320104875595\n",
            "epochs: 11 ======== acc: 81.60196202890161\n",
            "epochs: 12 ======== acc: 81.9065898896388\n",
            "epochs: 13 ======== acc: 82.19052771222405\n",
            "epochs: 14 ======== acc: 82.4568054039507\n",
            "epochs: 15 ======== acc: 82.70805612431967\n",
            "epochs: 16 ======== acc: 82.94654600018188\n",
            "epochs: 17 ======== acc: 83.1742115057553\n",
            "epochs: 18 ======== acc: 83.39269991700418\n",
            "epochs: 19 ======== acc: 83.60340950473146\n",
            "epochs: 20 ======== acc: 83.80752733282264\n",
            "epochs: 21 ======== acc: 84.0060635215574\n",
            "epochs: 22 ======== acc: 84.19988156894136\n",
            "epochs: 23 ======== acc: 84.38972480904056\n",
            "epochs: 24 ======== acc: 84.57623936914942\n",
            "epochs: 25 ======== acc: 84.75999411864812\n",
            "epochs: 26 ======== acc: 84.94149812849484\n",
            "epochs: 27 ======== acc: 85.12121611894983\n",
            "epochs: 28 ======== acc: 85.29958229120595\n",
            "epochs: 29 ======== acc: 85.4770128326051\n",
            "epochs: 30 ======== acc: 85.65391726194898\n",
            "epochs: 31 ======== acc: 85.83070863935791\n",
            "epochs: 32 ======== acc: 86.00781249540424\n",
            "epochs: 33 ======== acc: 86.18567412365269\n",
            "epochs: 34 ======== acc: 86.36476361661366\n",
            "epochs: 35 ======== acc: 86.54557770422761\n",
            "epochs: 36 ======== acc: 86.7286370976346\n",
            "epochs: 37 ======== acc: 86.9144777178148\n",
            "epochs: 38 ======== acc: 87.10363404329738\n",
            "epochs: 39 ======== acc: 87.29661308588238\n",
            "epochs: 40 ======== acc: 87.4938585224927\n",
            "epochs: 41 ======== acc: 87.69570657503063\n",
            "epochs: 42 ======== acc: 87.90233836786176\n",
            "epochs: 43 ======== acc: 88.11373710344124\n",
            "epochs: 44 ======== acc: 88.32966099774043\n",
            "epochs: 45 ======== acc: 88.54964243416016\n",
            "epochs: 46 ======== acc: 88.77301873197977\n",
            "epochs: 47 ======== acc: 88.99899100132865\n",
            "epochs: 48 ======== acc: 89.22669835321302\n",
            "epochs: 49 ======== acc: 89.45528999965131\n",
            "epochs: 50 ======== acc: 89.68398010595246\n",
            "epochs: 51 ======== acc: 89.9120780300249\n",
            "epochs: 52 ======== acc: 90.13899530958366\n",
            "epochs: 53 ======== acc: 90.36423644024423\n",
            "epochs: 54 ======== acc: 90.5873818783447\n",
            "epochs: 55 ======== acc: 90.80807000807269\n",
            "epochs: 56 ======== acc: 91.02598201655528\n",
            "epochs: 57 ======== acc: 91.24083116083912\n",
            "epochs: 58 ======== acc: 91.45235633676874\n",
            "epochs: 59 ======== acc: 91.66031911323218\n",
            "epochs: 60 ======== acc: 91.86450319352043\n",
            "epochs: 61 ======== acc: 92.064715339866\n",
            "epochs: 62 ======== acc: 92.26078697304828\n",
            "epochs: 63 ======== acc: 92.45257584959235\n",
            "epochs: 64 ======== acc: 92.639967392919\n",
            "epochs: 65 ======== acc: 92.82287540577707\n",
            "epochs: 66 ======== acc: 93.00124202091123\n",
            "epochs: 67 ======== acc: 93.17503685635741\n",
            "epochs: 68 ======== acc: 93.34425543013293\n",
            "epochs: 69 ======== acc: 93.50891695456102\n",
            "epochs: 70 ======== acc: 93.66906167186009\n",
            "epochs: 71 ======== acc: 93.82474791054032\n",
            "epochs: 72 ======== acc: 93.97604903927656\n",
            "epochs: 73 ======== acc: 94.1230504756925\n",
            "epochs: 74 ======== acc: 94.26584687729988\n",
            "epochs: 75 ======== acc: 94.40453960623272\n",
            "epochs: 76 ======== acc: 94.53923452332643\n",
            "epochs: 77 ======== acc: 94.67004013434205\n",
            "epochs: 78 ======== acc: 94.79706608420247\n",
            "epochs: 79 ======== acc: 94.92042197516271\n",
            "epochs: 80 ======== acc: 95.04021647193599\n",
            "epochs: 81 ======== acc: 95.15655665020672\n",
            "epochs: 82 ======== acc: 95.26954754347453\n",
            "epochs: 83 ======== acc: 95.37929184540765\n",
            "epochs: 84 ======== acc: 95.4858897295075\n",
            "epochs: 85 ======== acc: 95.5894387537487\n",
            "epochs: 86 ======== acc: 95.69003382407195\n",
            "epochs: 87 ======== acc: 95.78776719654378\n",
            "epochs: 88 ======== acc: 95.88272850327368\n",
            "epochs: 89 ======== acc: 95.97500479160634\n",
            "epochs: 90 ======== acc: 96.06468056963782\n",
            "epochs: 91 ======== acc: 96.15183785378886\n",
            "epochs: 92 ======== acc: 96.23655621611073\n",
            "epochs: 93 ======== acc: 96.31891283032505\n",
            "epochs: 94 ======== acc: 96.3989825164442\n",
            "epochs: 95 ======== acc: 96.47683778429894\n",
            "epochs: 96 ======== acc: 96.55254887652532\n",
            "epochs: 97 ======== acc: 96.62618381161336\n",
            "epochs: 98 ======== acc: 96.69780842756516\n",
            "epochs: 99 ======== acc: 96.76748642659612\n",
            "epochs: 100 ======== acc: 96.83527942117587\n"
          ]
        }
      ]
    },
    {
      "cell_type": "markdown",
      "source": [
        "plotting accuracy"
      ],
      "metadata": {
        "id": "MfXXYaMlJz_Y"
      }
    },
    {
      "cell_type": "code",
      "source": [
        "import matplotlib.pyplot as plt1\n",
        "\n",
        "# plotting accuracy\n",
        "plt1.plot(acc)\n",
        "plt1.ylabel('Accuracy')\n",
        "plt1.xlabel(\"Epochs:\")\n",
        "plt1.show()"
      ],
      "metadata": {
        "colab": {
          "base_uri": "https://localhost:8080/",
          "height": 449
        },
        "id": "SjKAx1NxJtV-",
        "outputId": "14db60d3-7ed0-4e0b-cdf3-3cd41cb990a1"
      },
      "execution_count": 58,
      "outputs": [
        {
          "output_type": "display_data",
          "data": {
            "text/plain": [
              "<Figure size 640x480 with 1 Axes>"
            ],
            "image/png": "[encoded data removed]"
          },
          "metadata": {}
        }
      ]
    },
    {
      "cell_type": "markdown",
      "source": [
        "plotting loss"
      ],
      "metadata": {
        "id": "hechNvFXJ6wm"
      }
    },
    {
      "cell_type": "code",
      "source": [
        "plt1.plot(losss)\n",
        "plt1.ylabel('Loss')\n",
        "plt1.xlabel(\"Epochs:\")\n",
        "plt1.show()"
      ],
      "metadata": {
        "colab": {
          "base_uri": "https://localhost:8080/",
          "height": 449
        },
        "id": "I8nxvIceJ8d_",
        "outputId": "a2ad506e-6e85-4736-bd61-d8d19a0eae2a"
      },
      "execution_count": 59,
      "outputs": [
        {
          "output_type": "display_data",
          "data": {
            "text/plain": [
              "<Figure size 640x480 with 1 Axes>"
            ],
            "image/png": "[encoded data removed]"
          },
          "metadata": {}
        }
      ]
    },
    {
      "cell_type": "code",
      "source": [
        "print(w1, \"\\n\", w2)"
      ],
      "metadata": {
        "colab": {
          "base_uri": "https://localhost:8080/"
        },
        "id": "9Mxc2DOKKRk0",
        "outputId": "67a7d125-75d5-4470-c05c-b7a4fcb72c1f"
      },
      "execution_count": 62,
      "outputs": [
        {
          "output_type": "stream",
          "name": "stdout",
          "text": [
            "[[-0.0638275  -1.82275135  0.59386169 -0.67878111  2.73618659]\n",
            " [-0.63702112  0.85984121  0.83061696  0.27842994 -0.82410595]\n",
            " [-0.65509127 -0.82545733 -0.52985668 -1.59689906 -0.6628048 ]\n",
            " [-0.0500866   2.97484798 -0.41118787  0.9831234  -1.16215321]\n",
            " [-0.32668228  0.24185833 -0.08330206 -0.5032632  -0.42093106]\n",
            " [ 2.38487643  0.23475653 -0.54963153 -1.03076918 -0.1495958 ]\n",
            " [ 0.14546152  1.15457664  2.18792108 -0.04320747  1.1696856 ]\n",
            " [ 0.32203488 -0.03716089  1.08638259 -0.98054177 -1.35014904]\n",
            " [-1.91844955  0.68442502 -1.69965948  0.42773323  0.42707158]\n",
            " [ 1.22172839 -0.56599083 -3.31071925  0.16556209 -1.76434447]\n",
            " [ 0.943629    0.92325808 -0.78427625  1.70623551  0.45917601]\n",
            " [-1.85245749 -0.11063992 -0.9212344   1.23189035 -0.22159384]\n",
            " [ 0.89947215 -1.47057583  0.13523803  0.82070655 -1.20703946]\n",
            " [-1.09222711  1.21242087 -1.06739306 -0.23728676  1.01582669]\n",
            " [ 0.6087808  -0.3081232  -1.13670626  0.31372899 -0.46051568]\n",
            " [ 0.13066252 -0.96159928  0.4486972   2.39665933 -2.35163378]\n",
            " [ 1.17820607 -1.0807274  -0.62683839  1.22494506  1.28352906]\n",
            " [ 1.2076134  -0.3092594  -0.257193   -0.72453566  0.13840753]\n",
            " [ 0.73901653  0.84090739 -1.26688518  0.222496   -0.32375823]\n",
            " [-2.30674654 -0.61817016  0.06770461 -1.07413605 -1.71216247]\n",
            " [ 1.68849752  1.51522617  0.58138578  0.51102394 -1.66656375]\n",
            " [ 2.38404349  0.6751477   0.88915124  1.5869012  -1.22649879]\n",
            " [ 1.3588964   1.17971083 -1.58522893  0.52762565 -0.72257679]\n",
            " [ 1.33954153 -0.75058216 -0.84104264 -0.08751172  0.03724152]\n",
            " [-0.28536195 -1.33227736 -0.03940145  1.41363881  1.37120394]\n",
            " [-1.39365905  0.4646882  -0.2426933  -1.39724455 -0.42967565]\n",
            " [-0.76969181  0.06031965  0.83135604  0.13455607 -0.85446199]\n",
            " [ 0.57822851 -0.60122848  0.4837335   1.07021121  0.76181315]\n",
            " [-1.00255749 -0.1582041   0.61341508  0.27627881 -3.00119264]\n",
            " [-1.98439273 -1.88744598 -0.55100926  0.32165675  0.00711199]] \n",
            " [[ 1.4488736  -2.36018756 -1.5851739 ]\n",
            " [-3.08868103 -0.03332886  1.3782474 ]\n",
            " [-1.15357948 -1.75956994  0.39107021]\n",
            " [ 0.89711574  1.18511941 -3.09270612]\n",
            " [-1.28757617 -0.86119212  0.59820478]]\n"
          ]
        }
      ]
    },
    {
      "cell_type": "code",
      "source": [
        "predict(x[2], w1, w2)"
      ],
      "metadata": {
        "colab": {
          "base_uri": "https://localhost:8080/",
          "height": 448
        },
        "id": "tOr0YHXfKS4F",
        "outputId": "2206eb16-933b-4016-a9c1-5caaff94e18b"
      },
      "execution_count": 61,
      "outputs": [
        {
          "output_type": "stream",
          "name": "stdout",
          "text": [
            "Image is of letter C.\n"
          ]
        },
        {
          "output_type": "display_data",
          "data": {
            "text/plain": [
              "<Figure size 640x480 with 1 Axes>"
            ],
            "image/png": "[encoded data removed]"
          },
          "metadata": {}
        }
      ]
    }
  ]
}